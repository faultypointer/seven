{
 "cells": [
  {
   "cell_type": "code",
   "execution_count": 53,
   "id": "06f137c2-86b1-4462-b666-a8337fb71bc5",
   "metadata": {},
   "outputs": [],
   "source": [
    "import numpy as np\n",
    "import pandas as pd"
   ]
  },
  {
   "cell_type": "markdown",
   "id": "9cf50cee-fe5d-4ce6-8381-c9293498789d",
   "metadata": {},
   "source": [
    "# Numpy"
   ]
  },
  {
   "cell_type": "markdown",
   "id": "7199064d-d2fa-467c-8f24-c34218011b8b",
   "metadata": {},
   "source": [
    "## 1. Creating NumPy Arrays:\n",
    "- Create a 1D NumPy array with 10 elements, containing the numbers from 1 to 10.\n",
    "- Create a 2D NumPy array of shape (3, 4) filled with ones.\n",
    "- Create a 3x3 identity matrix using NumPy."
   ]
  },
  {
   "cell_type": "code",
   "execution_count": 6,
   "id": "cb3ec280-1dff-46a5-b353-0aeb9ec9b3fb",
   "metadata": {},
   "outputs": [],
   "source": [
    "a = np.arange(1, 11)\n",
    "b = np.ones((3, 4))\n",
    "c = np.identity(3)"
   ]
  },
  {
   "cell_type": "markdown",
   "id": "8c5ecc17-2725-442b-b8aa-c6a0b84f533c",
   "metadata": {},
   "source": [
    "## 2. Array Operations:\n",
    "- Add 5 to each element in a 1D NumPy array: \\[1, 2, 3, 4, 5].\n",
    "- Multiply each element in a 1D NumPy array: \\[2, 4, 6, 8, 10] by 2.\n",
    "- Subtract 3 from each element in a NumPy array: \\[6, 8, 10, 12, 14]."
   ]
  },
  {
   "cell_type": "code",
   "execution_count": 11,
   "id": "aed99352-12d3-42ff-98ae-ad2ae4b73f80",
   "metadata": {},
   "outputs": [],
   "source": [
    "a = np.array([1, 2, 3, 4, 5])\n",
    "b = np.array([2, 4, 6, 8, 10])\n",
    "c = np.array([6, 8, 10, 12, 14])\n",
    "a = a + 5\n",
    "b = b * 2\n",
    "c = c - 3"
   ]
  },
  {
   "cell_type": "markdown",
   "id": "2931a6f6-2364-4142-b4ae-596fae824ec6",
   "metadata": {},
   "source": [
    "## 3. Indexing and Slicing:\n",
    "- Given a 1D array arr = np.array(\\[10, 20, 30, 40, 50]), access the third element.\n",
    "- Slice a 1D array to get the first 3 elements.\n",
    "- Given a 2D array, extract the element from the second row and third column."
   ]
  },
  {
   "cell_type": "code",
   "execution_count": 18,
   "id": "6e55b3ae-4fa8-4479-87e1-26bcf1a48c50",
   "metadata": {},
   "outputs": [],
   "source": [
    "arr = np.array([10, 20, 30, 40, 50])\n",
    "# third element of arr\n",
    "third = arr[2]\n",
    "# slice to get first 3 elements\n",
    "first_three = arr[:3]\n",
    "\n",
    "two_d_arr = np.arange(9).reshape((3, 3))\n",
    "# element in second row third column of 2d array\n",
    "second_third = two_d_arr[1, 2]"
   ]
  },
  {
   "cell_type": "markdown",
   "id": "5d7d3cf8-3da9-48a6-b84a-1ab9f567d182",
   "metadata": {},
   "source": [
    "## 4. Array Statistics:\n",
    "- Find the minimum and maximum value in a NumPy array: arr = np.array(\\[2, 4, 6, 8, 10]).\n",
    "- Calculate the sum and mean of the array: arr = np.array([3, 5, 7, 9])."
   ]
  },
  {
   "cell_type": "code",
   "execution_count": 19,
   "id": "87d60233-85fe-4228-af87-6be3fe1388b0",
   "metadata": {},
   "outputs": [
    {
     "name": "stdout",
     "output_type": "stream",
     "text": [
      "Array: [ 2  4  6  8 10]\tMinimum: 2\tMaximum: 10\n"
     ]
    }
   ],
   "source": [
    "arr = np.array([2, 4, 6, 8, 10])\n",
    "minimum = np.min(arr)\n",
    "maximum = np.max(arr)\n",
    "print(f\"Array: {arr}\\tMinimum: {minimum}\\tMaximum: {maximum}\")"
   ]
  },
  {
   "cell_type": "code",
   "execution_count": 20,
   "id": "6b99f9f4-5295-46ab-ac72-5041c42c525c",
   "metadata": {},
   "outputs": [
    {
     "name": "stdout",
     "output_type": "stream",
     "text": [
      "Sum: 24\tMean: 6.0\n"
     ]
    }
   ],
   "source": [
    "arr = np.array([3, 5, 7, 9])\n",
    "total = np.sum(arr)\n",
    "mean = np.mean(arr)\n",
    "print(f\"Sum: {total}\\tMean: {mean}\")"
   ]
  },
  {
   "cell_type": "markdown",
   "id": "1aa2559b-22b1-4c87-b095-bac98c0ca53d",
   "metadata": {},
   "source": [
    "## 5. Reshaping and Flattening:\n",
    "- Reshape a 1D array arr = np.array(\\[1, 2, 3, 4, 5, 6]) into a 2D array of shape (2, 3).\n",
    "- Flatten a 2D array arr = np.array(\\[\\[1, 2, 3], \\[4, 5, 6]]) into a 1D array."
   ]
  },
  {
   "cell_type": "code",
   "execution_count": 23,
   "id": "47f79309-0348-42c5-848b-73502755aec1",
   "metadata": {},
   "outputs": [
    {
     "data": {
      "text/plain": [
       "array([[1, 2, 3],\n",
       "       [4, 5, 6]])"
      ]
     },
     "execution_count": 23,
     "metadata": {},
     "output_type": "execute_result"
    }
   ],
   "source": [
    "arr = np.array([1, 2, 3, 4, 5, 6])\n",
    "reshaped_arr = arr.reshape((2, 3))\n",
    "reshaped_arr"
   ]
  },
  {
   "cell_type": "code",
   "execution_count": 25,
   "id": "25887ea7-93c8-457f-9fae-fc573b24fa98",
   "metadata": {},
   "outputs": [
    {
     "data": {
      "text/plain": [
       "array([1, 2, 3, 4, 5, 6])"
      ]
     },
     "execution_count": 25,
     "metadata": {},
     "output_type": "execute_result"
    }
   ],
   "source": [
    "arr = np.array([[1, 2, 3], [4, 5, 6]])\n",
    "flattened  = arr.flatten()\n",
    "flattened"
   ]
  },
  {
   "cell_type": "markdown",
   "id": "1530fafb-6177-4f18-8d92-4d263c89bf48",
   "metadata": {},
   "source": [
    "## 6. Array Stacking:\n",
    "- Stack two 1D arrays \\[1, 2, 3] and \\[4, 5, 6] vertically and horizontally."
   ]
  },
  {
   "cell_type": "code",
   "execution_count": 31,
   "id": "bd562868-6180-4b55-a1ef-70ca5ff40d33",
   "metadata": {},
   "outputs": [
    {
     "data": {
      "text/plain": [
       "array([1, 2, 3, 4, 5, 6])"
      ]
     },
     "execution_count": 31,
     "metadata": {},
     "output_type": "execute_result"
    }
   ],
   "source": [
    "arr1 = np.array([1, 2, 3])\n",
    "arr2 = np.array([4, 5, 6])\n",
    "arr_hori = np.hstack((arr1, arr2))\n",
    "arr_vert = np.vstack((arr1, arr2))\n",
    "arr_hori"
   ]
  },
  {
   "cell_type": "markdown",
   "id": "10defe4e-742f-4f5f-9d57-baa5eff8bd97",
   "metadata": {},
   "source": [
    "## 7. Mathematical Operations:\n",
    "- Perform element-wise addition and subtraction on two arrays: arr1 = np.array(\\[2, 4, 6]) and arr2 = np.array(\\[1, 3, 5]).\n",
    "- Perform element-wise multiplication and division on two arrays: arr1 = np.array(\\[2, 4, 6]) and arr2 = np.array(\\[1, 2, 3])."
   ]
  },
  {
   "cell_type": "code",
   "execution_count": 33,
   "id": "4ccb272b-dd72-4b6a-88d4-75ef68a1d1c2",
   "metadata": {},
   "outputs": [],
   "source": [
    "arr1 = np.array([2, 4, 6])\n",
    "arr2 = np.array([1, 3, 5])\n",
    "arr_sum = arr1 + arr2\n",
    "arr_diff = arr1 - arr2"
   ]
  },
  {
   "cell_type": "code",
   "execution_count": 36,
   "id": "af60a049-56ed-4f5a-bad0-004c9c816451",
   "metadata": {},
   "outputs": [],
   "source": [
    "arr1 = np.array([2, 4, 6])\n",
    "arr2 = np.array([1, 2, 3])\n",
    "arr_prod = arr1 * arr2\n",
    "arr_quot = arr1 / arr2"
   ]
  },
  {
   "cell_type": "markdown",
   "id": "5c633390-898c-4d68-8cfe-42a84d360324",
   "metadata": {},
   "source": [
    "## 8. Linear Algebra:\n",
    "- Calculate the dot product of two 1D arrays: arr1 = np.array(\\[1, 2]) and arr2 = np.array(\\[3, 4]).\n",
    "- Multiply two matrices using np.dot(). Given matrices A = np.array(\\[\\[1, 2], \\[3, 4]]) and B = np.array(\\[\\[5, 6], \\[7, 8]]), compute their dot product."
   ]
  },
  {
   "cell_type": "code",
   "execution_count": 38,
   "id": "9803ba90-68a3-4eb3-8aa3-c1bbc9668560",
   "metadata": {},
   "outputs": [
    {
     "data": {
      "text/plain": [
       "np.int64(11)"
      ]
     },
     "execution_count": 38,
     "metadata": {},
     "output_type": "execute_result"
    }
   ],
   "source": [
    "arr1 = np.array([1, 2]) \n",
    "arr2 = np.array([3, 4])\n",
    "dot_prod = np.dot(arr1, arr2)\n",
    "dot_prod"
   ]
  },
  {
   "cell_type": "code",
   "execution_count": 39,
   "id": "f7da7ecd-5f52-4c2d-b5bb-fca8ec338a05",
   "metadata": {},
   "outputs": [
    {
     "data": {
      "text/plain": [
       "array([[19, 22],\n",
       "       [43, 50]])"
      ]
     },
     "execution_count": 39,
     "metadata": {},
     "output_type": "execute_result"
    }
   ],
   "source": [
    "A = np.array([[1, 2], [3, 4]])\n",
    "B = np.array([[5, 6], [7, 8]])\n",
    "np.dot(A, B)"
   ]
  },
  {
   "cell_type": "markdown",
   "id": "3aa9e5d8-8dd5-48ca-9170-9d56f8d28571",
   "metadata": {},
   "source": [
    "## 9. Random Numbers:\n",
    "- Generate an array of 10 random numbers between 0 and 1 using np.random.rand().\n",
    "- Create a random integer array with values between 1 and 100, and of size 5 using\n",
    "np.random.randint()."
   ]
  },
  {
   "cell_type": "code",
   "execution_count": 43,
   "id": "f8a3e741-3d1e-4e01-bdee-a77faed916ed",
   "metadata": {},
   "outputs": [
    {
     "data": {
      "text/plain": [
       "array([41, 78, 40, 30, 59])"
      ]
     },
     "execution_count": 43,
     "metadata": {},
     "output_type": "execute_result"
    }
   ],
   "source": [
    "ten_randoms = np.random.rand(10)\n",
    "random_integers = np.random.randint(1, 100, 5)\n",
    "random_integers"
   ]
  },
  {
   "cell_type": "markdown",
   "id": "748cbe50-8214-4002-9a8b-c7a17efa21e2",
   "metadata": {},
   "source": [
    "## 10. Array Comparisons:\n",
    "- Compare two arrays element-wise: arr1 = np.array(\\[1, 2, 3]) and arr2 = np.array(\\[3, 2, 1]). Find which elements in arr1 are greater than arr2."
   ]
  },
  {
   "cell_type": "code",
   "execution_count": 46,
   "id": "b9935d62-33c3-4aea-a5e9-eed6e1c4be54",
   "metadata": {},
   "outputs": [],
   "source": [
    "arr1 = np.array([1, 2, 3]) \n",
    "arr2 = np.array([3, 2, 1])\n",
    "greater_in_arr1 = arr1[arr1 > arr2]"
   ]
  },
  {
   "cell_type": "markdown",
   "id": "70c04905-66b3-46e8-9001-88e26789ceef",
   "metadata": {},
   "source": [
    "## 11. Aggregating Functions:\n",
    "- Use np.sum(), np.mean(), and np.std() to compute the sum, mean, and standard deviation of the array arr = np.array(\\[10, 20, 30, 40, 50]).\n",
    "- Find the index of the maximum value in a NumPy array arr = np.array(\\[5, 2, 8, 1, 6]) using np.argmax()."
   ]
  },
  {
   "cell_type": "code",
   "execution_count": 47,
   "id": "2ffccaae-2cc7-4b03-bd0e-8d4ce44b9f61",
   "metadata": {},
   "outputs": [
    {
     "name": "stdout",
     "output_type": "stream",
     "text": [
      "Sum: 150\tMean: 30.0\tStandrad Deviation: 14.142135623730951\n"
     ]
    }
   ],
   "source": [
    "arr = np.array([10, 20, 30, 40, 50])\n",
    "total = np.sum(arr)\n",
    "mean = np.mean(arr)\n",
    "std = np.std(arr)\n",
    "print(f\"Sum: {total}\\tMean: {mean}\\tStandrad Deviation: {std}\")"
   ]
  },
  {
   "cell_type": "code",
   "execution_count": 49,
   "id": "ccb5513f-36c7-496b-9dab-41af62411585",
   "metadata": {},
   "outputs": [
    {
     "data": {
      "text/plain": [
       "np.True_"
      ]
     },
     "execution_count": 49,
     "metadata": {},
     "output_type": "execute_result"
    }
   ],
   "source": [
    "arr = np.array([5, 2, 8, 1, 6])\n",
    "max_index = np.argmax(arr)\n",
    "arr.max() == arr[max_index]"
   ]
  },
  {
   "cell_type": "markdown",
   "id": "cf1d4fd4-d4a1-48b8-b7c5-1db7d6f0e72d",
   "metadata": {},
   "source": [
    "## 12. Broadcasting:\n",
    "- Add a 1D array [1, 2, 3] to a 2D array [[10, 20, 30], [40, 50, 60]] using broadcasting."
   ]
  },
  {
   "cell_type": "code",
   "execution_count": 51,
   "id": "c644cb77-4f86-41c7-8bd6-b193f2d5891b",
   "metadata": {},
   "outputs": [
    {
     "data": {
      "text/plain": [
       "array([[11, 22, 33],\n",
       "       [41, 52, 63]])"
      ]
     },
     "execution_count": 51,
     "metadata": {},
     "output_type": "execute_result"
    }
   ],
   "source": [
    "two_d = np.array([[10, 20, 30], [40, 50, 60]])\n",
    "one_d = np.array([1, 2, 3])\n",
    "summed = two_d + one_d\n",
    "summed"
   ]
  },
  {
   "cell_type": "markdown",
   "id": "60e3e56b-3383-463a-a65f-33559b5bb5d1",
   "metadata": {},
   "source": [
    "# Pandas"
   ]
  },
  {
   "cell_type": "code",
   "execution_count": null,
   "id": "22b5872c-229c-4a8f-9742-623e6b691ef2",
   "metadata": {},
   "outputs": [],
   "source": []
  }
 ],
 "metadata": {
  "kernelspec": {
   "display_name": "Python 3 (ipykernel)",
   "language": "python",
   "name": "python3"
  },
  "language_info": {
   "codemirror_mode": {
    "name": "ipython",
    "version": 3
   },
   "file_extension": ".py",
   "mimetype": "text/x-python",
   "name": "python",
   "nbconvert_exporter": "python",
   "pygments_lexer": "ipython3",
   "version": "3.13.3"
  }
 },
 "nbformat": 4,
 "nbformat_minor": 5
}
